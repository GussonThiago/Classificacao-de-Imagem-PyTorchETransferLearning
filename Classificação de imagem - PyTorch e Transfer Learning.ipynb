{
 "cells": [
  {
   "cell_type": "markdown",
   "id": "579dcd7e",
   "metadata": {},
   "source": [
    "# Classificação de imagem usando PyTorch e Transfer Learning"
   ]
  },
  {
   "cell_type": "markdown",
   "id": "1bf9f886",
   "metadata": {},
   "source": [
    "# Princípios\n",
    "\n",
    "Os modelos pré-treinados são muito utilizados para realizar tarefas mais complexas. Sem essa ferramenta, são necessárias dezenas de milhares de dados para treinar o modelo do zero, ou seja, não temos potência computacional e nem tantos dados para realizar esse tipo de trabalho."
   ]
  },
  {
   "cell_type": "markdown",
   "id": "7d2ba906",
   "metadata": {},
   "source": [
    "# Objetivo\n",
    "\n",
    "Precisamos de um produto mínimo viável que posso ser testado nas filiais da empresa. O problema a ser solucionado é a dificuldade em classificar os produtos das lojas.\n",
    "\n",
    "As classificação de imagem é muito utilizada atualmente em aplicativos de video chamadas para inserir planos de fundos e deixar somente a pessoa, reconhecimento de rostos, documentos em aplicativos de bancos.\n",
    "\n",
    "Bancos, varejos e qualquer outro ramo que presta algum tipo de serviço e também possuem alguma classificação de imagem, e com isso podem se beneficiar desse tipo de modelo.\n",
    "\n",
    "As imagens foram obtida no [Google Imagens](https://images.google.com/)."
   ]
  },
  {
   "cell_type": "code",
   "execution_count": 1,
   "id": "e5553d93",
   "metadata": {},
   "outputs": [],
   "source": [
    "#!pip install torch torchvision pillow scikit-learn gradio"
   ]
  },
  {
   "cell_type": "code",
   "execution_count": 2,
   "id": "1f672d9e",
   "metadata": {},
   "outputs": [],
   "source": [
    "# Bibliotecas utilizadas:\n",
    "\n",
    "from matplotlib import pyplot as plt\n",
    "import numpy as np\n",
    "import os\n",
    "import PIL.Image\n",
    "\n",
    "import time\n",
    "import torch, torchvision\n",
    "from torchvision import datasets, models, transforms\n",
    "from torch.utils.data import DataLoader\n",
    "import torch.nn as nn\n",
    "import torch.optim as optim"
   ]
  },
  {
   "cell_type": "code",
   "execution_count": 3,
   "id": "8f1fa23b",
   "metadata": {},
   "outputs": [
    {
     "data": {
      "text/plain": [
       "['batata', 'cenoura', 'limao', 'tomate']"
      ]
     },
     "execution_count": 3,
     "metadata": {},
     "output_type": "execute_result"
    }
   ],
   "source": [
    "# Separando as bases de treino, validação e teste:\n",
    "\n",
    "diretorio_base_imagens = 'B:/Cursos Extras/Lets_data - Jornada/Projeto 05/Data/raw'\n",
    "pastas_com_nomes_de_vegetais = os.listdir('B:/Cursos Extras/Lets_data - Jornada/Projeto 05/Data/raw')\n",
    "pastas_com_nomes_de_vegetais"
   ]
  },
  {
   "cell_type": "code",
   "execution_count": 4,
   "id": "99f6f649",
   "metadata": {},
   "outputs": [
    {
     "data": {
      "text/plain": [
       "{'batata': 146, 'cenoura': 181, 'limao': 111, 'tomate': 107}"
      ]
     },
     "execution_count": 4,
     "metadata": {},
     "output_type": "execute_result"
    }
   ],
   "source": [
    "# Separando as imagens nas bases (treino - 80%), (Validação - 10%) e (teste - 10%):\n",
    "\n",
    "quantidade_por_label = {pasta: len(os.listdir(os.path.join(diretorio_base_imagens, pasta))) for pasta in pastas_com_nomes_de_vegetais}\n",
    "quantidade_por_label"
   ]
  },
  {
   "cell_type": "code",
   "execution_count": 5,
   "id": "0ef9f23f",
   "metadata": {},
   "outputs": [],
   "source": [
    "# Criando as pastas de treino, validação e teste:\n",
    "\n",
    "diretorio_imagens_processadas = 'B:/Cursos Extras/Lets_data - Jornada/Projeto 05/Data/processed'\n",
    "\n",
    "dir_treino = os.path.join(diretorio_imagens_processadas, 'treino')\n",
    "dir_validacao = os.path.join(diretorio_imagens_processadas, 'validacao')\n",
    "dir_teste = os.path.join(diretorio_imagens_processadas, 'teste')\n",
    "\n",
    "if not os.path.exists(dir_treino):\n",
    "    os.makedirs(dir_treino)\n",
    "\n",
    "if not os.path.exists(dir_validacao):\n",
    "    os.makedirs(dir_validacao)\n",
    "    \n",
    "if not os.path.exists(dir_teste):\n",
    "    os.makedirs(dir_teste)"
   ]
  },
  {
   "cell_type": "code",
   "execution_count": 6,
   "id": "a3bec9fb",
   "metadata": {},
   "outputs": [],
   "source": [
    "# Bibliotecas utilizadas:\n",
    "\n",
    "import shutil\n",
    "from sklearn.model_selection import train_test_split"
   ]
  },
  {
   "cell_type": "code",
   "execution_count": 7,
   "id": "98659b3b",
   "metadata": {},
   "outputs": [
    {
     "name": "stdout",
     "output_type": "stream",
     "text": [
      "batata - treino: 116 - valid: 15 - teste: 15 - total: 146\n",
      "cenoura - treino: 144 - valid: 18 - teste: 19 - total: 181\n",
      "limao - treino: 88 - valid: 11 - teste: 12 - total: 111\n",
      "tomate - treino: 85 - valid: 11 - teste: 11 - total: 107\n"
     ]
    }
   ],
   "source": [
    "# Criando as pastas de cada classe:\n",
    "\n",
    "for classe in pastas_com_nomes_de_vegetais:\n",
    "    dir_classe_treino = os.path.join(dir_treino, classe)\n",
    "    dir_classe_validacao = os.path.join(dir_validacao, classe)\n",
    "    dir_classe_teste = os.path.join(dir_teste, classe)\n",
    "    \n",
    "    # Criando as pastas:\n",
    "    if not os.path.exists(dir_classe_treino):\n",
    "        os.makedirs(dir_classe_treino)\n",
    "    if not os.path.exists(dir_classe_validacao):\n",
    "        os.makedirs(dir_classe_validacao)\n",
    "    if not os.path.exists(dir_classe_teste):\n",
    "        os.makedirs(dir_classe_teste)\n",
    "    \n",
    "    # Caminho completo das pastas com as imagens originais:\n",
    "    pastas_classe = os.path.join(diretorio_base_imagens, classe)\n",
    "    \n",
    "    # Listando todos os arquivos:\n",
    "    arquivos_classe = os.listdir(pastas_classe)\n",
    "    \n",
    "    # Separando a base de treino - 80%:\n",
    "    treino, valid_teste = train_test_split(arquivos_classe, shuffle=True, test_size=0.2, random_state=42)\n",
    "    \n",
    "    # Separando as bases de validação e teste - 10%:\n",
    "    validacao, teste = train_test_split(valid_teste, shuffle=True, test_size=0.5, random_state=42)\n",
    "    \n",
    "    # Deletando a lista valid_teste:\n",
    "    del valid_teste\n",
    "    \n",
    "    print(f'{classe} - treino: {len(treino)} - valid: {len(validacao)} - teste: {len(teste)} - total: {len(arquivos_classe)}')\n",
    "    \n",
    "    # Copiando os arquivos para as bases criadas:\n",
    "    for imagem_treino in treino:\n",
    "        caminho_original = os.path.join(diretorio_base_imagens, classe, imagem_treino)\n",
    "        caminho_destino = os.path.join(dir_classe_treino, imagem_treino)\n",
    "        \n",
    "        shutil.copy(caminho_original, caminho_destino)\n",
    "        \n",
    "    for imagem_validacao in validacao:\n",
    "        caminho_original = os.path.join(diretorio_base_imagens, classe, imagem_validacao)\n",
    "        caminho_destino = os.path.join(dir_classe_validacao, imagem_validacao)\n",
    "        \n",
    "        shutil.copy(caminho_original, caminho_destino)\n",
    "        \n",
    "    for imagem_teste in teste:\n",
    "        caminho_original = os.path.join(diretorio_base_imagens, classe, imagem_teste)\n",
    "        caminho_destino = os.path.join(dir_classe_teste, imagem_teste)\n",
    "        \n",
    "        shutil.copy(caminho_original, caminho_destino)"
   ]
  },
  {
   "cell_type": "markdown",
   "id": "02fbba44",
   "metadata": {},
   "source": [
    "# Realizando o Pré-Processamento\n",
    "\n",
    "Vamos realizar o processamento das imagens para utilizar no modelo do PyTorch"
   ]
  },
  {
   "cell_type": "code",
   "execution_count": 8,
   "id": "6a7815e4",
   "metadata": {},
   "outputs": [],
   "source": [
    "# Padronizando o tamanho da imagem:\n",
    "\n",
    "image_size = 100"
   ]
  },
  {
   "cell_type": "code",
   "execution_count": 9,
   "id": "04d7ec98",
   "metadata": {},
   "outputs": [],
   "source": [
    "# Redimensionando a imagem:\n",
    "\n",
    "transformacoes_de_imagem = {\n",
    "    'treino': transforms.Compose([transforms.Resize(size=[image_size, image_size]), transforms.ToTensor(),]),\n",
    "    'validacao': transforms.Compose([transforms.Resize(size=[image_size, image_size]), transforms.ToTensor(),]),\n",
    "    'teste': transforms.Compose([transforms.Resize(size=[image_size, image_size]), transforms.ToTensor(),])\n",
    "}"
   ]
  },
  {
   "cell_type": "code",
   "execution_count": 10,
   "id": "61318cef",
   "metadata": {},
   "outputs": [
    {
     "data": {
      "text/plain": [
       "('B:/Cursos Extras/Lets_data - Jornada/Projeto 05/Data/processed\\\\treino',\n",
       " 'B:/Cursos Extras/Lets_data - Jornada/Projeto 05/Data/processed\\\\validacao',\n",
       " 'B:/Cursos Extras/Lets_data - Jornada/Projeto 05/Data/processed\\\\teste')"
      ]
     },
     "execution_count": 10,
     "metadata": {},
     "output_type": "execute_result"
    }
   ],
   "source": [
    "# Renomeando as bases:\n",
    "\n",
    "pasta_treino = dir_treino\n",
    "pasta_validacao = dir_validacao\n",
    "pasta_teste = dir_teste\n",
    "\n",
    "pasta_treino, pasta_validacao, pasta_teste"
   ]
  },
  {
   "cell_type": "code",
   "execution_count": 11,
   "id": "a3885fb1",
   "metadata": {},
   "outputs": [],
   "source": [
    "# Definindo o tamanho do Batch dos treinamento:\n",
    "\n",
    "tamanho_do_batch = 8"
   ]
  },
  {
   "cell_type": "code",
   "execution_count": 12,
   "id": "9d0c0cfe",
   "metadata": {},
   "outputs": [
    {
     "data": {
      "text/plain": [
       "4"
      ]
     },
     "execution_count": 12,
     "metadata": {},
     "output_type": "execute_result"
    }
   ],
   "source": [
    "# Definindo o número de classes:\n",
    "\n",
    "numero_de_classes = len(os.listdir(pasta_treino))\n",
    "numero_de_classes"
   ]
  },
  {
   "cell_type": "code",
   "execution_count": 13,
   "id": "17726522",
   "metadata": {},
   "outputs": [],
   "source": [
    "# Carregando as imagens:\n",
    "\n",
    "data = {\n",
    "    'treino': datasets.ImageFolder(root=pasta_treino, transform=transformacoes_de_imagem['treino']),\n",
    "    'validacao': datasets.ImageFolder(root=pasta_validacao, transform=transformacoes_de_imagem['validacao'])\n",
    "}"
   ]
  },
  {
   "cell_type": "code",
   "execution_count": 14,
   "id": "ea42cd67",
   "metadata": {},
   "outputs": [
    {
     "data": {
      "text/plain": [
       "{'treino': Dataset ImageFolder\n",
       "     Number of datapoints: 433\n",
       "     Root location: B:/Cursos Extras/Lets_data - Jornada/Projeto 05/Data/processed\\treino\n",
       "     StandardTransform\n",
       " Transform: Compose(\n",
       "                Resize(size=[100, 100], interpolation=bilinear, max_size=None, antialias=None)\n",
       "                ToTensor()\n",
       "            ),\n",
       " 'validacao': Dataset ImageFolder\n",
       "     Number of datapoints: 55\n",
       "     Root location: B:/Cursos Extras/Lets_data - Jornada/Projeto 05/Data/processed\\validacao\n",
       "     StandardTransform\n",
       " Transform: Compose(\n",
       "                Resize(size=[100, 100], interpolation=bilinear, max_size=None, antialias=None)\n",
       "                ToTensor()\n",
       "            )}"
      ]
     },
     "execution_count": 14,
     "metadata": {},
     "output_type": "execute_result"
    }
   ],
   "source": [
    "# Visualizando os carregamentos:\n",
    "\n",
    "data"
   ]
  },
  {
   "cell_type": "code",
   "execution_count": 15,
   "id": "81bba473",
   "metadata": {},
   "outputs": [
    {
     "data": {
      "text/plain": [
       "{0: 'batata', 1: 'cenoura', 2: 'limao', 3: 'tomate'}"
      ]
     },
     "execution_count": 15,
     "metadata": {},
     "output_type": "execute_result"
    }
   ],
   "source": [
    "# Mapeando os indeces com os nomes das classes:\n",
    "\n",
    "indice_para_classe = {indice: classe for classe, indice in data['treino'].class_to_idx.items()}\n",
    "indice_para_classe"
   ]
  },
  {
   "cell_type": "code",
   "execution_count": 16,
   "id": "32742bd7",
   "metadata": {},
   "outputs": [
    {
     "data": {
      "text/plain": [
       "(433, 55)"
      ]
     },
     "execution_count": 16,
     "metadata": {},
     "output_type": "execute_result"
    }
   ],
   "source": [
    "# Quantidade de imagens para utiliazr nas métricas:\n",
    "\n",
    "num_imagens_treino = len(data['treino'])\n",
    "num_imagens_validacao = len(data['validacao'])\n",
    "\n",
    "num_imagens_treino, num_imagens_validacao"
   ]
  },
  {
   "cell_type": "code",
   "execution_count": 17,
   "id": "2014ac9f",
   "metadata": {},
   "outputs": [],
   "source": [
    "# Criando o DataLoaders para as bases de treino e validação:\n",
    "\n",
    "data_loader_treino = DataLoader(data['treino'], batch_size=tamanho_do_batch, shuffle=True)\n",
    "data_loader_validacao = DataLoader(data['validacao'], batch_size=tamanho_do_batch, shuffle=True)"
   ]
  },
  {
   "cell_type": "code",
   "execution_count": 18,
   "id": "f1cfb524",
   "metadata": {},
   "outputs": [
    {
     "data": {
      "text/plain": [
       "(<torch.utils.data.dataloader.DataLoader at 0x15e73eef940>,\n",
       " <torch.utils.data.dataloader.DataLoader at 0x15e73eef670>)"
      ]
     },
     "execution_count": 18,
     "metadata": {},
     "output_type": "execute_result"
    }
   ],
   "source": [
    "# Visualizando os DataLoaders:\n",
    "\n",
    "data_loader_treino, data_loader_validacao"
   ]
  },
  {
   "cell_type": "markdown",
   "id": "68e36bce",
   "metadata": {},
   "source": [
    "## Visualizando algumas imagens da base de treino para cada classe"
   ]
  },
  {
   "cell_type": "code",
   "execution_count": 19,
   "id": "ace09afb",
   "metadata": {},
   "outputs": [],
   "source": [
    "# Bibliotecas utilizadas:\n",
    "\n",
    "from IPython.display import Image"
   ]
  },
  {
   "cell_type": "code",
   "execution_count": 20,
   "id": "d451d616",
   "metadata": {},
   "outputs": [
    {
     "data": {
      "image/jpeg": "[encoded data removed]",
      "text/plain": [
       "<IPython.core.display.Image object>"
      ]
     },
     "metadata": {},
     "output_type": "display_data"
    },
    {
     "data": {
      "image/jpeg": "[encoded data removed]",
      "text/plain": [
       "<IPython.core.display.Image object>"
      ]
     },
     "metadata": {},
     "output_type": "display_data"
    },
    {
     "data": {
      "image/jpeg": "[encoded data removed]",
      "text/plain": [
       "<IPython.core.display.Image object>"
      ]
     },
     "metadata": {},
     "output_type": "display_data"
    },
    {
     "data": {
      "image/jpeg": "[encoded data removed]",
      "text/plain": [
       "<IPython.core.display.Image object>"
      ]
     },
     "metadata": {},
     "output_type": "display_data"
    }
   ],
   "source": [
    "# Visualizando as imagens de cada classe:\n",
    "\n",
    "for classe in indice_para_classe.values():\n",
    "    pastas_classe = os.path.join(pasta_treino, classe)\n",
    "    arquivo_imagem = os.listdir(pastas_classe)[1]\n",
    "    img = Image(filename=os.path.join(pastas_classe, arquivo_imagem))\n",
    "    display(img)"
   ]
  },
  {
   "cell_type": "markdown",
   "id": "e33b332a",
   "metadata": {},
   "source": [
    "## Transfer Learning"
   ]
  },
  {
   "cell_type": "code",
   "execution_count": 21,
   "id": "7a77c0d6",
   "metadata": {},
   "outputs": [
    {
     "name": "stderr",
     "output_type": "stream",
     "text": [
      "C:\\Users\\thiag\\anaconda3\\lib\\site-packages\\torchvision\\models\\_utils.py:208: UserWarning: The parameter 'pretrained' is deprecated since 0.13 and will be removed in 0.15, please use 'weights' instead.\n",
      "  warnings.warn(\n",
      "C:\\Users\\thiag\\anaconda3\\lib\\site-packages\\torchvision\\models\\_utils.py:223: UserWarning: Arguments other than a weight enum or `None` for 'weights' are deprecated since 0.13 and will be removed in 0.15. The current behavior is equivalent to passing `weights=AlexNet_Weights.IMAGENET1K_V1`. You can also use `weights=AlexNet_Weights.DEFAULT` to get the most up-to-date weights.\n",
      "  warnings.warn(msg)\n"
     ]
    }
   ],
   "source": [
    "# Carregando o modelo:\n",
    "\n",
    "alexnet = models.alexnet(pretrained=True)"
   ]
  },
  {
   "cell_type": "code",
   "execution_count": 22,
   "id": "c2309ffa",
   "metadata": {},
   "outputs": [
    {
     "data": {
      "text/plain": [
       "AlexNet(\n",
       "  (features): Sequential(\n",
       "    (0): Conv2d(3, 64, kernel_size=(11, 11), stride=(4, 4), padding=(2, 2))\n",
       "    (1): ReLU(inplace=True)\n",
       "    (2): MaxPool2d(kernel_size=3, stride=2, padding=0, dilation=1, ceil_mode=False)\n",
       "    (3): Conv2d(64, 192, kernel_size=(5, 5), stride=(1, 1), padding=(2, 2))\n",
       "    (4): ReLU(inplace=True)\n",
       "    (5): MaxPool2d(kernel_size=3, stride=2, padding=0, dilation=1, ceil_mode=False)\n",
       "    (6): Conv2d(192, 384, kernel_size=(3, 3), stride=(1, 1), padding=(1, 1))\n",
       "    (7): ReLU(inplace=True)\n",
       "    (8): Conv2d(384, 256, kernel_size=(3, 3), stride=(1, 1), padding=(1, 1))\n",
       "    (9): ReLU(inplace=True)\n",
       "    (10): Conv2d(256, 256, kernel_size=(3, 3), stride=(1, 1), padding=(1, 1))\n",
       "    (11): ReLU(inplace=True)\n",
       "    (12): MaxPool2d(kernel_size=3, stride=2, padding=0, dilation=1, ceil_mode=False)\n",
       "  )\n",
       "  (avgpool): AdaptiveAvgPool2d(output_size=(6, 6))\n",
       "  (classifier): Sequential(\n",
       "    (0): Dropout(p=0.5, inplace=False)\n",
       "    (1): Linear(in_features=9216, out_features=4096, bias=True)\n",
       "    (2): ReLU(inplace=True)\n",
       "    (3): Dropout(p=0.5, inplace=False)\n",
       "    (4): Linear(in_features=4096, out_features=4096, bias=True)\n",
       "    (5): ReLU(inplace=True)\n",
       "    (6): Linear(in_features=4096, out_features=1000, bias=True)\n",
       "  )\n",
       ")"
      ]
     },
     "execution_count": 22,
     "metadata": {},
     "output_type": "execute_result"
    }
   ],
   "source": [
    "# Visualizando e analisando a estrutura da alexnet:\n",
    "\n",
    "alexnet"
   ]
  },
  {
   "cell_type": "code",
   "execution_count": 23,
   "id": "1900e805",
   "metadata": {},
   "outputs": [],
   "source": [
    "# Congelando os parametros do modelo:\n",
    "\n",
    "for param in alexnet.parameters():\n",
    "    param.requires_grad = False"
   ]
  },
  {
   "cell_type": "code",
   "execution_count": 24,
   "id": "a653afe8",
   "metadata": {},
   "outputs": [],
   "source": [
    "# Alterando o último parametro para o nosso uso:\n",
    "\n",
    "alexnet.classifier[6] = nn.Linear(4096, numero_de_classes)"
   ]
  },
  {
   "cell_type": "code",
   "execution_count": 25,
   "id": "762f4771",
   "metadata": {},
   "outputs": [],
   "source": [
    "# Adicionado na última camada o SoftMax para visualizar a probabilidade:\n",
    "\n",
    "alexnet.classifier.add_module(\"7\", nn.LogSoftmax(dim = 1))"
   ]
  },
  {
   "cell_type": "code",
   "execution_count": 26,
   "id": "beafec16",
   "metadata": {},
   "outputs": [
    {
     "data": {
      "text/plain": [
       "AlexNet(\n",
       "  (features): Sequential(\n",
       "    (0): Conv2d(3, 64, kernel_size=(11, 11), stride=(4, 4), padding=(2, 2))\n",
       "    (1): ReLU(inplace=True)\n",
       "    (2): MaxPool2d(kernel_size=3, stride=2, padding=0, dilation=1, ceil_mode=False)\n",
       "    (3): Conv2d(64, 192, kernel_size=(5, 5), stride=(1, 1), padding=(2, 2))\n",
       "    (4): ReLU(inplace=True)\n",
       "    (5): MaxPool2d(kernel_size=3, stride=2, padding=0, dilation=1, ceil_mode=False)\n",
       "    (6): Conv2d(192, 384, kernel_size=(3, 3), stride=(1, 1), padding=(1, 1))\n",
       "    (7): ReLU(inplace=True)\n",
       "    (8): Conv2d(384, 256, kernel_size=(3, 3), stride=(1, 1), padding=(1, 1))\n",
       "    (9): ReLU(inplace=True)\n",
       "    (10): Conv2d(256, 256, kernel_size=(3, 3), stride=(1, 1), padding=(1, 1))\n",
       "    (11): ReLU(inplace=True)\n",
       "    (12): MaxPool2d(kernel_size=3, stride=2, padding=0, dilation=1, ceil_mode=False)\n",
       "  )\n",
       "  (avgpool): AdaptiveAvgPool2d(output_size=(6, 6))\n",
       "  (classifier): Sequential(\n",
       "    (0): Dropout(p=0.5, inplace=False)\n",
       "    (1): Linear(in_features=9216, out_features=4096, bias=True)\n",
       "    (2): ReLU(inplace=True)\n",
       "    (3): Dropout(p=0.5, inplace=False)\n",
       "    (4): Linear(in_features=4096, out_features=4096, bias=True)\n",
       "    (5): ReLU(inplace=True)\n",
       "    (6): Linear(in_features=4096, out_features=4, bias=True)\n",
       "    (7): LogSoftmax(dim=1)\n",
       "  )\n",
       ")"
      ]
     },
     "execution_count": 26,
     "metadata": {},
     "output_type": "execute_result"
    }
   ],
   "source": [
    "# Visualizando e analisando a estrutura da alexnet depois da alteração:\n",
    "\n",
    "alexnet"
   ]
  },
  {
   "cell_type": "code",
   "execution_count": 27,
   "id": "94b3554e",
   "metadata": {},
   "outputs": [
    {
     "data": {
      "text/plain": [
       "True"
      ]
     },
     "execution_count": 27,
     "metadata": {},
     "output_type": "execute_result"
    }
   ],
   "source": [
    "# Visualizando os parametros da última camada da rede:\n",
    "\n",
    "parametros_ultima_camada = alexnet.classifier[6].parameters()\n",
    "[parametro for parametro in parametros_ultima_camada][0].requires_grad"
   ]
  },
  {
   "cell_type": "code",
   "execution_count": 28,
   "id": "fbf13996",
   "metadata": {},
   "outputs": [],
   "source": [
    "# Configurando a função de erro:\n",
    "\n",
    "funcao_erro = nn.CrossEntropyLoss()"
   ]
  },
  {
   "cell_type": "markdown",
   "id": "862572e5",
   "metadata": {},
   "source": [
    "## Otimizador\n",
    "\n",
    "O Otimizador é quem efetivamente muda os pesos da rede de acordo com algum algoritmo"
   ]
  },
  {
   "cell_type": "code",
   "execution_count": 29,
   "id": "aa9e2cd2",
   "metadata": {},
   "outputs": [
    {
     "data": {
      "text/plain": [
       "Adam (\n",
       "Parameter Group 0\n",
       "    amsgrad: False\n",
       "    betas: (0.9, 0.999)\n",
       "    capturable: False\n",
       "    eps: 1e-08\n",
       "    foreach: None\n",
       "    lr: 0.001\n",
       "    maximize: False\n",
       "    weight_decay: 0\n",
       ")"
      ]
     },
     "execution_count": 29,
     "metadata": {},
     "output_type": "execute_result"
    }
   ],
   "source": [
    "# Configurando o otimizador na última camada:\n",
    "\n",
    "otimizador = optim.Adam(alexnet.parameters())\n",
    "otimizador"
   ]
  },
  {
   "cell_type": "markdown",
   "id": "b5680375",
   "metadata": {},
   "source": [
    "## Treinando e validando \n",
    "\n",
    "O treinamento realiza vários caminhos para frente (forward: previsão), cálculos de erro (distância entre previsão e valor real) e backward (backpropagation: aprendizado com o erro). A cada epoca, todas as imagens do treino são utilizadas para otimizar os parâmetros da rede. Dentro de cada época, utilizamos o treinamento em batch, ao invés de realizar o treinamento de imagem por imagem.\n",
    "\n",
    "Na validação não realizamos o backpropagation."
   ]
  },
  {
   "cell_type": "code",
   "execution_count": 30,
   "id": "611d6f4b",
   "metadata": {},
   "outputs": [],
   "source": [
    "def treinar_e_validar(modelo, metrica_erro, otimizador, epocas=10):\n",
    "    '''\n",
    "    Função para treinamento e validação\n",
    "        :param modelo: modelo para treinar e validar\n",
    "        :param metrica_erro: critério de erro para minização\n",
    "        :param otimizador: otimizador para alterar os parâmetros da rede\n",
    "        :param epocas: número de épocas (default=10)\n",
    "    \n",
    "    return\n",
    "        melhor_modelo: modelo treinado com a melhor acurácia na validação\n",
    "        historico: (dict) - histórico com erro no treinamento, erro na validação e acurácia\n",
    "    '''\n",
    "    historico = []\n",
    "    melhor_acuracia = 0.0\n",
    "    melhor_modelo = None\n",
    "    \n",
    "    device = torch.device(\"cuda:0\" if torch.cuda.is_available() else \"cpu\")\n",
    "    \n",
    "    print(device)\n",
    "    \n",
    "    for epoca in range(epocas):\n",
    "        inicio_epoca = time.time()\n",
    "        print(f\"\\nÉpoca: {epoca+1}/{epocas}\")\n",
    "        \n",
    "        erro_treino = 0.0\n",
    "        acertos_treino = 0.0\n",
    "        \n",
    "        erro_validacao = 0.0\n",
    "        acertos_validacao = 0.0\n",
    "        \n",
    "        for i, (imagens_lote, y_reais) in enumerate(data_loader_treino):\n",
    "            imagens_lote = imagens_lote.to(device)\n",
    "            y_reais = y_reais.to(device)\n",
    "            \n",
    "            otimizador.zero_grad()\n",
    "            \n",
    "            previsoes = modelo(imagens_lote)\n",
    "            \n",
    "            '''\n",
    "            print(imagens_lote.size()) # Tensor com 8 imagens\n",
    "            print(previsoes) # Tensor com 8 previsões\n",
    "            print(torch.exp(previsoes)) # Convertendo para exponencial para ter a probabilidade\n",
    "                        \n",
    "            print(torch.max(previsoes.data, 1))\n",
    "            \n",
    "            print(y_reais)\n",
    "            \n",
    "            for indice in range(tamanho):\n",
    "                tensor_para_imagem = transforms.ToPILImage()\n",
    "                imagem = tensor_para_imagem(imagens_lote[indice])\n",
    "                display(imagem)\n",
    "            '''\n",
    "            \n",
    "            erro = metrica_erro(previsoes, y_reais) # Retorno a média do erro \n",
    "            \n",
    "            erro.backward() # Cálculo dos gradientes\n",
    "            \n",
    "            otimizador.step() # Atualizar os coeficientes da rede de acordo com os gradientes\n",
    "            \n",
    "            # Cálculos da acurácia:            \n",
    "            erro_treino += erro.item() * imagens_lote.size(0) # Cálculo do erro total para esse Batch\n",
    "            \n",
    "            _, classes_previstas = torch.max(previsoes.data, 1)\n",
    "            predicoes_corretas = (classes_previstas == y_reais).type(torch.FloatTensor) # Converter os acertos para float\n",
    "            \n",
    "            acertos = torch.mean(predicoes_corretas) # Cálcula a média da acurácia\n",
    "            \n",
    "            acertos_treino += torch.sum(predicoes_corretas) # Cálcula a acurácia total do treino do lote todo\n",
    "        \n",
    "        # Validação \n",
    "        with torch.no_grad(): # Desligando o autograd\n",
    "            \n",
    "            modelo.eval() # Modificando de treino para validação\n",
    "            \n",
    "            for j, (imagens_lote, y_reais) in enumerate(data_loader_validacao): # Iteração de validação\n",
    "                \n",
    "                imagens_lote = imagens_lote.to(device)\n",
    "                y_reais = y_reais.to(device)\n",
    "                \n",
    "                previsoes = modelo(imagens_lote) # ForWard pass de validação\n",
    "                \n",
    "                erro = metrica_erro(previsoes, y_reais) # Cálculo erro de validação\n",
    "                \n",
    "                erro_validacao += erro.item() * imagens_lote.size(0) # Cálculo do erro de validação e adicionar a valid_Loss\n",
    "                \n",
    "                _, classes_previstas = torch.max(previsoes.data, 1)\n",
    "                predicoes_corretas = (classes_previstas == y_reais).type(torch.FloatTensor) # Converter os acertos para float\n",
    "                \n",
    "                acertos = torch.mean(predicoes_corretas) # Cálcula a média dos acertos\n",
    "            \n",
    "                acertos_validacao += torch.sum(predicoes_corretas) # Cálcula a acurácia total do treino do lote todo\n",
    "        \n",
    "        # Cálculando a média de erro e acurácia do treino:\n",
    "        erro_medio_treino = erro_treino/num_imagens_treino\n",
    "        acuracia_media_treino = acertos_treino/num_imagens_treino\n",
    "        \n",
    "        # Cálculando a média de erro e acurácia da validação:\n",
    "        erro_medio_validacao = erro_validacao/num_imagens_validacao\n",
    "        acuracia_media_validacao = acertos_validacao/num_imagens_validacao\n",
    "        \n",
    "        # Adicionando no histórico:\n",
    "        historico.append([erro_medio_treino, erro_medio_validacao, acuracia_media_treino, acuracia_media_validacao])\n",
    "        \n",
    "        fim_epoca = time.time()\n",
    "        \n",
    "        print(f'Época: {epoca+1:03d}, Treino: erro - {erro_medio_treino:.2f}, Acurácia: {(acuracia_media_treino*100):.2f}%, \\n\\t\\tValidação: erro - {erro_medio_validacao:.2f}, Acurácia: {(acuracia_media_validacao*100):.2f}, Tempo: {(fim_epoca-inicio_epoca):.2f}')\n",
    "        \n",
    "        if acuracia_media_validacao > melhor_acuracia:\n",
    "            melhor_acuracia = acuracia_media_validacao\n",
    "            melhor_modelo = modelo\n",
    "            \n",
    "    return melhor_modelo, historico"
   ]
  },
  {
   "cell_type": "code",
   "execution_count": 31,
   "id": "db7afd7e",
   "metadata": {},
   "outputs": [],
   "source": [
    "# Definindo o número de épocas:\n",
    "\n",
    "numero_de_epocas = 10"
   ]
  },
  {
   "cell_type": "code",
   "execution_count": 32,
   "id": "ef20d50b",
   "metadata": {},
   "outputs": [
    {
     "name": "stdout",
     "output_type": "stream",
     "text": [
      "cpu\n",
      "\n",
      "Época: 1/10\n",
      "Época: 001, Treino: erro - 0.30, Acurácia: 89.38%, \n",
      "\t\tValidação: erro - 0.10, Acurácia: 94.55, Tempo: 8.24\n",
      "\n",
      "Época: 2/10\n",
      "Época: 002, Treino: erro - 0.04, Acurácia: 99.08%, \n",
      "\t\tValidação: erro - 0.03, Acurácia: 100.00, Tempo: 7.30\n",
      "\n",
      "Época: 3/10\n",
      "Época: 003, Treino: erro - 0.01, Acurácia: 99.77%, \n",
      "\t\tValidação: erro - 0.05, Acurácia: 98.18, Tempo: 7.91\n",
      "\n",
      "Época: 4/10\n",
      "Época: 004, Treino: erro - 0.01, Acurácia: 99.77%, \n",
      "\t\tValidação: erro - 0.04, Acurácia: 98.18, Tempo: 7.37\n",
      "\n",
      "Época: 5/10\n",
      "Época: 005, Treino: erro - 0.01, Acurácia: 99.77%, \n",
      "\t\tValidação: erro - 0.05, Acurácia: 96.36, Tempo: 8.02\n",
      "\n",
      "Época: 6/10\n",
      "Época: 006, Treino: erro - 0.01, Acurácia: 99.77%, \n",
      "\t\tValidação: erro - 0.03, Acurácia: 100.00, Tempo: 7.38\n",
      "\n",
      "Época: 7/10\n",
      "Época: 007, Treino: erro - 0.00, Acurácia: 100.00%, \n",
      "\t\tValidação: erro - 0.04, Acurácia: 96.36, Tempo: 7.82\n",
      "\n",
      "Época: 8/10\n",
      "Época: 008, Treino: erro - 0.00, Acurácia: 100.00%, \n",
      "\t\tValidação: erro - 0.04, Acurácia: 98.18, Tempo: 7.53\n",
      "\n",
      "Época: 9/10\n",
      "Época: 009, Treino: erro - 0.00, Acurácia: 100.00%, \n",
      "\t\tValidação: erro - 0.04, Acurácia: 98.18, Tempo: 7.67\n",
      "\n",
      "Época: 10/10\n",
      "Época: 010, Treino: erro - 0.00, Acurácia: 100.00%, \n",
      "\t\tValidação: erro - 0.04, Acurácia: 98.18, Tempo: 8.31\n"
     ]
    }
   ],
   "source": [
    "# Treinando o modelo:\n",
    "\n",
    "modelo_treinado, historico = treinar_e_validar(alexnet, funcao_erro, otimizador, numero_de_epocas)"
   ]
  },
  {
   "cell_type": "markdown",
   "id": "e2b96ed0",
   "metadata": {},
   "source": [
    "## Histórico de Treinamento e Validação\n",
    "\n",
    "Podemos avaliar como foi o desenvolvimento do treinamento a cada época"
   ]
  },
  {
   "cell_type": "code",
   "execution_count": 33,
   "id": "8d5f261a",
   "metadata": {},
   "outputs": [
    {
     "data": {
      "image/png": "[encoded data removed]",
      "text/plain": [
       "<Figure size 432x288 with 1 Axes>"
      ]
     },
     "metadata": {
      "needs_background": "light"
     },
     "output_type": "display_data"
    }
   ],
   "source": [
    "# Mostrando o erro de treinamento e validação:\n",
    "\n",
    "historico = np.array(historico)\n",
    "\n",
    "plt.plot(historico[:,0:2])\n",
    "plt.legend(['Erro Treino', 'Erro Validação'])\n",
    "plt.xlabel('Época')\n",
    "plt.ylabel('Erro')\n",
    "plt.ylim(0,1)\n",
    "plt.show()"
   ]
  },
  {
   "cell_type": "code",
   "execution_count": 34,
   "id": "8eb58052",
   "metadata": {},
   "outputs": [
    {
     "data": {
      "image/png": "[encoded data removed]",
      "text/plain": [
       "<Figure size 432x288 with 1 Axes>"
      ]
     },
     "metadata": {
      "needs_background": "light"
     },
     "output_type": "display_data"
    }
   ],
   "source": [
    "# Mostrando o acurácia de treinamento e validação:\n",
    "\n",
    "historico = np.array(historico)\n",
    "\n",
    "plt.plot(historico[:,2:])\n",
    "plt.legend(['Acurácia Treino', 'Acurácia Validação'])\n",
    "plt.xlabel('Época')\n",
    "plt.ylabel('Erro')\n",
    "plt.ylim(0,1)\n",
    "plt.show()"
   ]
  },
  {
   "cell_type": "markdown",
   "id": "0f5d5cbc",
   "metadata": {},
   "source": [
    "# Função de predição\n",
    "\n",
    "Iremos criar a função para prever a classe de uma imagem com o melhor modelo treinado. É bem parecido com o que fazemos na validação, um 'Forward pass' na rede, sem atualizar os gradientes ou os parâmetros da rede."
   ]
  },
  {
   "cell_type": "code",
   "execution_count": 35,
   "id": "eb251b00",
   "metadata": {},
   "outputs": [],
   "source": [
    "def predicao_veg(imagem_teste):\n",
    "    '''\n",
    "    Função para realizar a predição\n",
    "    :param imagem_teste: imagem ja transformada com o PIL\n",
    "    '''\n",
    "    \n",
    "    transformacao = transformacoes_de_imagem['teste']\n",
    "    \n",
    "    tensor_imagem_teste = transformacao(imagem_teste)\n",
    "    \n",
    "    if torch.cuda.is_available():\n",
    "        tensor_imagem_teste = tensor_imagem_teste.view(1, 3, image_size, image_size).cuda()\n",
    "    else:\n",
    "        tensor_imagem_teste = tensor_imagem_teste.view(1, 3, image_size, image_size)\n",
    "        \n",
    "    dict_predicoes = dict()\n",
    "    \n",
    "    with torch.no_grad():\n",
    "        modelo_treinado.eval()\n",
    "        predicoes_log = modelo_treinado(tensor_imagem_teste) # Modelo retorna as probabilidades em log (Log softmax)\n",
    "        predicoes = torch.exp(predicoes_log) # Voltar a probabilidade de log para a probabilidade linear\n",
    "        dict_predicoes = {indice_para_classe[classe]: float(predicoes[0][classe]) for classe in range(numero_de_classes)}\n",
    "        \n",
    "    return dict_predicoes"
   ]
  },
  {
   "cell_type": "markdown",
   "id": "91932c80",
   "metadata": {},
   "source": [
    "# Previsão em imagens de teste"
   ]
  },
  {
   "cell_type": "code",
   "execution_count": 36,
   "id": "a083650b",
   "metadata": {},
   "outputs": [
    {
     "data": {
      "text/plain": [
       "'batata'"
      ]
     },
     "metadata": {},
     "output_type": "display_data"
    },
    {
     "data": {
      "text/plain": [
       "'cenoura'"
      ]
     },
     "metadata": {},
     "output_type": "display_data"
    },
    {
     "data": {
      "text/plain": [
       "'limao'"
      ]
     },
     "metadata": {},
     "output_type": "display_data"
    },
    {
     "data": {
      "text/plain": [
       "'tomate'"
      ]
     },
     "metadata": {},
     "output_type": "display_data"
    },
    {
     "data": {
      "image/png": "[encoded data removed]",
      "text/plain": [
       "<Figure size 360x720 with 4 Axes>"
      ]
     },
     "metadata": {
      "needs_background": "light"
     },
     "output_type": "display_data"
    }
   ],
   "source": [
    "# Testando em cada uma das classes:\n",
    "\n",
    "figura, plots = plt.subplots(nrows=numero_de_classes, ncols=1, figsize=(5, 10))\n",
    "\n",
    "for indice, classe in enumerate(pastas_com_nomes_de_vegetais):\n",
    "    pasta_teste_classe = os.path.join(pasta_teste, classe)\n",
    "    imagem = os.path.join(pasta_teste_classe, os.listdir(pasta_teste_classe)[2])\n",
    "    imagem_teste = PIL.Image.open(imagem)\n",
    "    \n",
    "    plots[indice].imshow(imagem_teste)\n",
    "    \n",
    "    predicoes = predicao_veg(imagem_teste)\n",
    "    \n",
    "    display(max(predicoes, key=predicoes.get))"
   ]
  },
  {
   "cell_type": "code",
   "execution_count": 37,
   "id": "840d48a7",
   "metadata": {},
   "outputs": [],
   "source": [
    "# Realizando a predição_veg e cálculando a acurácia:\n",
    "\n",
    "def acuracia_teste(pasta_teste):\n",
    "    acertos = 0\n",
    "    total_imagens = 0\n",
    "    \n",
    "    for classe in os.listdir(pasta_teste):\n",
    "        pasta_completa = os.path.join(pasta_teste, classe)\n",
    "        total_imagens += len(os.listdir(pasta_completa))\n",
    "        \n",
    "        for imagem in os.listdir(pasta_completa):\n",
    "            imagem = os.path.join(pasta_completa, imagem)\n",
    "            imagem_teste = PIL.Image.open(imagem)\n",
    "            predicoes = predicao_veg(imagem_teste)\n",
    "            predicao = max(predicoes, key=predicoes.get)\n",
    "            \n",
    "            if predicao == classe:\n",
    "                acertos +=1\n",
    "                \n",
    "    return ((acertos/total_imagens)*100)"
   ]
  },
  {
   "cell_type": "code",
   "execution_count": 38,
   "id": "20a895c3",
   "metadata": {},
   "outputs": [
    {
     "data": {
      "text/plain": [
       "96.49122807017544"
      ]
     },
     "execution_count": 38,
     "metadata": {},
     "output_type": "execute_result"
    }
   ],
   "source": [
    "# Chamando a função de acurácia:\n",
    "\n",
    "acuracia_teste(pasta_teste)"
   ]
  },
  {
   "cell_type": "markdown",
   "id": "1c1507cb",
   "metadata": {},
   "source": [
    "# Deploy do modelo\n",
    "\n",
    "Vamos utilizar o Gradio para realizar uma aplicação"
   ]
  },
  {
   "cell_type": "code",
   "execution_count": 39,
   "id": "6a3c41b4",
   "metadata": {},
   "outputs": [],
   "source": [
    "# Bibliotecas utilizadas:\n",
    "\n",
    "import gradio as gr"
   ]
  },
  {
   "cell_type": "code",
   "execution_count": 40,
   "id": "217413b9",
   "metadata": {},
   "outputs": [
    {
     "name": "stderr",
     "output_type": "stream",
     "text": [
      "C:\\Users\\thiag\\anaconda3\\lib\\site-packages\\gradio\\deprecation.py:40: UserWarning: `optional` parameter is deprecated, and it has no effect\n",
      "  warnings.warn(value)\n"
     ]
    },
    {
     "name": "stdout",
     "output_type": "stream",
     "text": [
      "Running on local URL:  http://127.0.0.1:7860/\n",
      "Running on public URL: https://33445.gradio.app\n",
      "\n",
      "This share link expires in 72 hours. For free permanent hosting, check out Spaces (https://huggingface.co/spaces)\n"
     ]
    },
    {
     "data": {
      "text/html": [
       "<div><iframe src=\"https://33445.gradio.app\" width=\"900\" height=\"500\" allow=\"autoplay; camera; microphone;\" frameborder=\"0\" allowfullscreen></iframe></div>"
      ],
      "text/plain": [
       "<IPython.core.display.HTML object>"
      ]
     },
     "metadata": {},
     "output_type": "display_data"
    }
   ],
   "source": [
    "interface_gradio = gr.Interface(fn=predicao_veg, inputs=gr.inputs.Image(type='pil'), outputs='label').launch(share=True)"
   ]
  }
 ],
 "metadata": {
  "kernelspec": {
   "display_name": "Python 3 (ipykernel)",
   "language": "python",
   "name": "python3"
  },
  "language_info": {
   "codemirror_mode": {
    "name": "ipython",
    "version": 3
   },
   "file_extension": ".py",
   "mimetype": "text/x-python",
   "name": "python",
   "nbconvert_exporter": "python",
   "pygments_lexer": "ipython3",
   "version": "3.9.7"
  }
 },
 "nbformat": 4,
 "nbformat_minor": 5
}
